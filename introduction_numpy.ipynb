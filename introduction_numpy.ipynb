{
  "nbformat": 4,
  "nbformat_minor": 0,
  "metadata": {
    "colab": {
      "name": "introduction numpy",
      "provenance": [],
      "authorship_tag": "ABX9TyNhEfLeqoMZeR7c82inBMFr",
      "include_colab_link": true
    },
    "kernelspec": {
      "name": "python3",
      "display_name": "Python 3"
    },
    "language_info": {
      "name": "python"
    }
  },
  "cells": [
    {
      "cell_type": "markdown",
      "metadata": {
        "id": "view-in-github",
        "colab_type": "text"
      },
      "source": [
        "<a href=\"https://colab.research.google.com/github/juli1001/Introduction-To-Numpy/blob/main/introduction_numpy.ipynb\" target=\"_parent\"><img src=\"https://colab.research.google.com/assets/colab-badge.svg\" alt=\"Open In Colab\"/></a>"
      ]
    },
    {
      "cell_type": "code",
      "metadata": {
        "id": "wk4tkfUJK0Ak"
      },
      "source": [
        "import numpy as np\n",
        "import pandas as pd\n"
      ],
      "execution_count": 181,
      "outputs": []
    },
    {
      "cell_type": "code",
      "metadata": {
        "id": "qj6Pg7cbLEgx"
      },
      "source": [
        "# 1 dimension array (list)\n",
        "a1=np.array([1,2,3])"
      ],
      "execution_count": 182,
      "outputs": []
    },
    {
      "cell_type": "code",
      "metadata": {
        "colab": {
          "base_uri": "https://localhost:8080/"
        },
        "id": "laJZdV6sLWOC",
        "outputId": "5fb65b54-9f84-4cac-f2f1-ee4e1445f19a"
      },
      "source": [
        "a1"
      ],
      "execution_count": 183,
      "outputs": [
        {
          "output_type": "execute_result",
          "data": {
            "text/plain": [
              "array([1, 2, 3])"
            ]
          },
          "metadata": {},
          "execution_count": 183
        }
      ]
    },
    {
      "cell_type": "code",
      "metadata": {
        "colab": {
          "base_uri": "https://localhost:8080/"
        },
        "id": "FJf62mJOLXXJ",
        "outputId": "c2b0b974-16fd-4d8c-bc8e-c3e98eb5a799"
      },
      "source": [
        "a1.shape"
      ],
      "execution_count": 184,
      "outputs": [
        {
          "output_type": "execute_result",
          "data": {
            "text/plain": [
              "(3,)"
            ]
          },
          "metadata": {},
          "execution_count": 184
        }
      ]
    },
    {
      "cell_type": "code",
      "metadata": {
        "colab": {
          "base_uri": "https://localhost:8080/"
        },
        "id": "Z5X1cNnOLjNZ",
        "outputId": "dbfdd870-5639-42b1-da5d-2f43e5758f99"
      },
      "source": [
        "a1.ndim"
      ],
      "execution_count": 185,
      "outputs": [
        {
          "output_type": "execute_result",
          "data": {
            "text/plain": [
              "1"
            ]
          },
          "metadata": {},
          "execution_count": 185
        }
      ]
    },
    {
      "cell_type": "code",
      "metadata": {
        "id": "M4wNH7JvLs0Z"
      },
      "source": [
        "# 2 dimension \n",
        "a2=np.array([[1,2,3],[4,5,6]])"
      ],
      "execution_count": 186,
      "outputs": []
    },
    {
      "cell_type": "code",
      "metadata": {
        "colab": {
          "base_uri": "https://localhost:8080/"
        },
        "id": "fLp5_3vVL6cS",
        "outputId": "86424006-6538-4677-9117-d2c14f74df5c"
      },
      "source": [
        "a2"
      ],
      "execution_count": 187,
      "outputs": [
        {
          "output_type": "execute_result",
          "data": {
            "text/plain": [
              "array([[1, 2, 3],\n",
              "       [4, 5, 6]])"
            ]
          },
          "metadata": {},
          "execution_count": 187
        }
      ]
    },
    {
      "cell_type": "code",
      "metadata": {
        "colab": {
          "base_uri": "https://localhost:8080/"
        },
        "id": "uyxU7eIaL8UK",
        "outputId": "9b0b4ff3-dc83-405b-83b8-a98260994d81"
      },
      "source": [
        "a2.shape"
      ],
      "execution_count": 188,
      "outputs": [
        {
          "output_type": "execute_result",
          "data": {
            "text/plain": [
              "(2, 3)"
            ]
          },
          "metadata": {},
          "execution_count": 188
        }
      ]
    },
    {
      "cell_type": "code",
      "metadata": {
        "colab": {
          "base_uri": "https://localhost:8080/"
        },
        "id": "-xUSyBFUL-ab",
        "outputId": "86430f8d-0dad-4b86-b325-ddcd97d99c8d"
      },
      "source": [
        "a2.ndim"
      ],
      "execution_count": 189,
      "outputs": [
        {
          "output_type": "execute_result",
          "data": {
            "text/plain": [
              "2"
            ]
          },
          "metadata": {},
          "execution_count": 189
        }
      ]
    },
    {
      "cell_type": "code",
      "metadata": {
        "id": "I7sl9OmlMA4b"
      },
      "source": [
        "# 3 dimension \n",
        "a3=np.array([[[1,2,3],[4,5,6],[7,8,9]],\n",
        "     [[10,11,12],[13,14,15],[16,17,18]]])"
      ],
      "execution_count": 190,
      "outputs": []
    },
    {
      "cell_type": "code",
      "metadata": {
        "colab": {
          "base_uri": "https://localhost:8080/"
        },
        "id": "C7QPqSI3MmMq",
        "outputId": "43961f45-b2ea-4485-fc9e-b5e54d08245c"
      },
      "source": [
        "a3"
      ],
      "execution_count": 191,
      "outputs": [
        {
          "output_type": "execute_result",
          "data": {
            "text/plain": [
              "array([[[ 1,  2,  3],\n",
              "        [ 4,  5,  6],\n",
              "        [ 7,  8,  9]],\n",
              "\n",
              "       [[10, 11, 12],\n",
              "        [13, 14, 15],\n",
              "        [16, 17, 18]]])"
            ]
          },
          "metadata": {},
          "execution_count": 191
        }
      ]
    },
    {
      "cell_type": "code",
      "metadata": {
        "colab": {
          "base_uri": "https://localhost:8080/"
        },
        "id": "qIwG6YHJNPab",
        "outputId": "004afd36-f711-4f5e-9dc3-5f5860c182e6"
      },
      "source": [
        "a3.ndim"
      ],
      "execution_count": 192,
      "outputs": [
        {
          "output_type": "execute_result",
          "data": {
            "text/plain": [
              "3"
            ]
          },
          "metadata": {},
          "execution_count": 192
        }
      ]
    },
    {
      "cell_type": "code",
      "metadata": {
        "colab": {
          "base_uri": "https://localhost:8080/"
        },
        "id": "xxH98rZfNZlK",
        "outputId": "0b2e9710-8570-4b1e-ab47-8e44733394b0"
      },
      "source": [
        "a3.shape"
      ],
      "execution_count": 193,
      "outputs": [
        {
          "output_type": "execute_result",
          "data": {
            "text/plain": [
              "(2, 3, 3)"
            ]
          },
          "metadata": {},
          "execution_count": 193
        }
      ]
    },
    {
      "cell_type": "code",
      "metadata": {
        "id": "_5imSRSFO4Ez"
      },
      "source": [
        "# pandas data frame out of numpy arrays\n",
        "import pandas as pd\n",
        "df=pd.DataFrame(np.random.randint(10,size=(6,4)),columns=[\"a\",\"b\",\"c\",\"d\"])"
      ],
      "execution_count": 194,
      "outputs": []
    },
    {
      "cell_type": "code",
      "metadata": {
        "colab": {
          "base_uri": "https://localhost:8080/",
          "height": 235
        },
        "id": "TGra0ScxQYyM",
        "outputId": "62789b6f-5d4e-4fd4-af38-9de9d813101a"
      },
      "source": [
        "df"
      ],
      "execution_count": 195,
      "outputs": [
        {
          "output_type": "execute_result",
          "data": {
            "text/html": [
              "<div>\n",
              "<style scoped>\n",
              "    .dataframe tbody tr th:only-of-type {\n",
              "        vertical-align: middle;\n",
              "    }\n",
              "\n",
              "    .dataframe tbody tr th {\n",
              "        vertical-align: top;\n",
              "    }\n",
              "\n",
              "    .dataframe thead th {\n",
              "        text-align: right;\n",
              "    }\n",
              "</style>\n",
              "<table border=\"1\" class=\"dataframe\">\n",
              "  <thead>\n",
              "    <tr style=\"text-align: right;\">\n",
              "      <th></th>\n",
              "      <th>a</th>\n",
              "      <th>b</th>\n",
              "      <th>c</th>\n",
              "      <th>d</th>\n",
              "    </tr>\n",
              "  </thead>\n",
              "  <tbody>\n",
              "    <tr>\n",
              "      <th>0</th>\n",
              "      <td>0</td>\n",
              "      <td>9</td>\n",
              "      <td>0</td>\n",
              "      <td>5</td>\n",
              "    </tr>\n",
              "    <tr>\n",
              "      <th>1</th>\n",
              "      <td>2</td>\n",
              "      <td>3</td>\n",
              "      <td>9</td>\n",
              "      <td>9</td>\n",
              "    </tr>\n",
              "    <tr>\n",
              "      <th>2</th>\n",
              "      <td>4</td>\n",
              "      <td>3</td>\n",
              "      <td>9</td>\n",
              "      <td>5</td>\n",
              "    </tr>\n",
              "    <tr>\n",
              "      <th>3</th>\n",
              "      <td>6</td>\n",
              "      <td>1</td>\n",
              "      <td>0</td>\n",
              "      <td>3</td>\n",
              "    </tr>\n",
              "    <tr>\n",
              "      <th>4</th>\n",
              "      <td>9</td>\n",
              "      <td>7</td>\n",
              "      <td>1</td>\n",
              "      <td>3</td>\n",
              "    </tr>\n",
              "    <tr>\n",
              "      <th>5</th>\n",
              "      <td>2</td>\n",
              "      <td>5</td>\n",
              "      <td>8</td>\n",
              "      <td>3</td>\n",
              "    </tr>\n",
              "  </tbody>\n",
              "</table>\n",
              "</div>"
            ],
            "text/plain": [
              "   a  b  c  d\n",
              "0  0  9  0  5\n",
              "1  2  3  9  9\n",
              "2  4  3  9  5\n",
              "3  6  1  0  3\n",
              "4  9  7  1  3\n",
              "5  2  5  8  3"
            ]
          },
          "metadata": {},
          "execution_count": 195
        }
      ]
    },
    {
      "cell_type": "code",
      "metadata": {
        "id": "MaptgiL5Qk8c"
      },
      "source": [
        "df2=pd.DataFrame(a2)"
      ],
      "execution_count": 196,
      "outputs": []
    },
    {
      "cell_type": "code",
      "metadata": {
        "colab": {
          "base_uri": "https://localhost:8080/",
          "height": 111
        },
        "id": "Vb0541KxQswU",
        "outputId": "a597cad9-6898-4b45-9ceb-9436a79bebba"
      },
      "source": [
        "df2"
      ],
      "execution_count": 197,
      "outputs": [
        {
          "output_type": "execute_result",
          "data": {
            "text/html": [
              "<div>\n",
              "<style scoped>\n",
              "    .dataframe tbody tr th:only-of-type {\n",
              "        vertical-align: middle;\n",
              "    }\n",
              "\n",
              "    .dataframe tbody tr th {\n",
              "        vertical-align: top;\n",
              "    }\n",
              "\n",
              "    .dataframe thead th {\n",
              "        text-align: right;\n",
              "    }\n",
              "</style>\n",
              "<table border=\"1\" class=\"dataframe\">\n",
              "  <thead>\n",
              "    <tr style=\"text-align: right;\">\n",
              "      <th></th>\n",
              "      <th>0</th>\n",
              "      <th>1</th>\n",
              "      <th>2</th>\n",
              "    </tr>\n",
              "  </thead>\n",
              "  <tbody>\n",
              "    <tr>\n",
              "      <th>0</th>\n",
              "      <td>1</td>\n",
              "      <td>2</td>\n",
              "      <td>3</td>\n",
              "    </tr>\n",
              "    <tr>\n",
              "      <th>1</th>\n",
              "      <td>4</td>\n",
              "      <td>5</td>\n",
              "      <td>6</td>\n",
              "    </tr>\n",
              "  </tbody>\n",
              "</table>\n",
              "</div>"
            ],
            "text/plain": [
              "   0  1  2\n",
              "0  1  2  3\n",
              "1  4  5  6"
            ]
          },
          "metadata": {},
          "execution_count": 197
        }
      ]
    },
    {
      "cell_type": "code",
      "metadata": {
        "colab": {
          "base_uri": "https://localhost:8080/"
        },
        "id": "ll1jsF7fSwCF",
        "outputId": "29e27481-6824-4931-cd86-b52835e36c3e"
      },
      "source": [
        "# ARRAYS\n",
        "# np.array\n",
        "array1=np.array([1,2,3])\n",
        "array1"
      ],
      "execution_count": 198,
      "outputs": [
        {
          "output_type": "execute_result",
          "data": {
            "text/plain": [
              "array([1, 2, 3])"
            ]
          },
          "metadata": {},
          "execution_count": 198
        }
      ]
    },
    {
      "cell_type": "code",
      "metadata": {
        "colab": {
          "base_uri": "https://localhost:8080/"
        },
        "id": "3nWdrDmbTGoF",
        "outputId": "858e7e58-3547-4bed-d578-ad48be6563f2"
      },
      "source": [
        "# create an array of one\n",
        "ones1=np.ones((4,4,2))\n",
        "ones1"
      ],
      "execution_count": 199,
      "outputs": [
        {
          "output_type": "execute_result",
          "data": {
            "text/plain": [
              "array([[[1., 1.],\n",
              "        [1., 1.],\n",
              "        [1., 1.],\n",
              "        [1., 1.]],\n",
              "\n",
              "       [[1., 1.],\n",
              "        [1., 1.],\n",
              "        [1., 1.],\n",
              "        [1., 1.]],\n",
              "\n",
              "       [[1., 1.],\n",
              "        [1., 1.],\n",
              "        [1., 1.],\n",
              "        [1., 1.]],\n",
              "\n",
              "       [[1., 1.],\n",
              "        [1., 1.],\n",
              "        [1., 1.],\n",
              "        [1., 1.]]])"
            ]
          },
          "metadata": {},
          "execution_count": 199
        }
      ]
    },
    {
      "cell_type": "code",
      "metadata": {
        "colab": {
          "base_uri": "https://localhost:8080/"
        },
        "id": "MtdW70dbTe1W",
        "outputId": "57d13ed7-b2b4-41b8-cb65-57017fecd1ef"
      },
      "source": [
        "ones1.dtype"
      ],
      "execution_count": 200,
      "outputs": [
        {
          "output_type": "execute_result",
          "data": {
            "text/plain": [
              "dtype('float64')"
            ]
          },
          "metadata": {},
          "execution_count": 200
        }
      ]
    },
    {
      "cell_type": "code",
      "metadata": {
        "colab": {
          "base_uri": "https://localhost:8080/"
        },
        "id": "IPoguntTTkE2",
        "outputId": "98af896e-9aa8-4833-a552-2f39c6f1b67d"
      },
      "source": [
        "ones1.astype(int)"
      ],
      "execution_count": 201,
      "outputs": [
        {
          "output_type": "execute_result",
          "data": {
            "text/plain": [
              "array([[[1, 1],\n",
              "        [1, 1],\n",
              "        [1, 1],\n",
              "        [1, 1]],\n",
              "\n",
              "       [[1, 1],\n",
              "        [1, 1],\n",
              "        [1, 1],\n",
              "        [1, 1]],\n",
              "\n",
              "       [[1, 1],\n",
              "        [1, 1],\n",
              "        [1, 1],\n",
              "        [1, 1]],\n",
              "\n",
              "       [[1, 1],\n",
              "        [1, 1],\n",
              "        [1, 1],\n",
              "        [1, 1]]])"
            ]
          },
          "metadata": {},
          "execution_count": 201
        }
      ]
    },
    {
      "cell_type": "code",
      "metadata": {
        "colab": {
          "base_uri": "https://localhost:8080/"
        },
        "id": "wjnqe1YSTrGG",
        "outputId": "eec0cad3-c20c-4c2e-e851-fb2dd19d0d32"
      },
      "source": [
        "# create an array of zero\n",
        "zero=np.zeros((2,2,3))\n",
        "zero"
      ],
      "execution_count": 202,
      "outputs": [
        {
          "output_type": "execute_result",
          "data": {
            "text/plain": [
              "array([[[0., 0., 0.],\n",
              "        [0., 0., 0.]],\n",
              "\n",
              "       [[0., 0., 0.],\n",
              "        [0., 0., 0.]]])"
            ]
          },
          "metadata": {},
          "execution_count": 202
        }
      ]
    },
    {
      "cell_type": "code",
      "metadata": {
        "colab": {
          "base_uri": "https://localhost:8080/"
        },
        "id": "LyD-tsTXT_eN",
        "outputId": "146c254b-b204-4ae5-ab11-4990c70e065e"
      },
      "source": [
        "# create an array within a range\n",
        "range_array=np.arange(0,6,2)\n",
        "range_array"
      ],
      "execution_count": 203,
      "outputs": [
        {
          "output_type": "execute_result",
          "data": {
            "text/plain": [
              "array([0, 2, 4])"
            ]
          },
          "metadata": {},
          "execution_count": 203
        }
      ]
    },
    {
      "cell_type": "code",
      "metadata": {
        "colab": {
          "base_uri": "https://localhost:8080/"
        },
        "id": "akTETnM8UjNG",
        "outputId": "e180a198-cc69-4334-f454-6eae5dceff2b"
      },
      "source": [
        "# random array\n",
        "random_array=np.random.randint(20,size=(3,4))\n",
        "random_array"
      ],
      "execution_count": 204,
      "outputs": [
        {
          "output_type": "execute_result",
          "data": {
            "text/plain": [
              "array([[15,  4,  2, 18],\n",
              "       [ 5,  7, 15, 15],\n",
              "       [ 8,  5,  7,  5]])"
            ]
          },
          "metadata": {},
          "execution_count": 204
        }
      ]
    },
    {
      "cell_type": "code",
      "metadata": {
        "colab": {
          "base_uri": "https://localhost:8080/"
        },
        "id": "qUlVwP9JU3Qm",
        "outputId": "296df7be-1309-4847-bf10-926158f9f787"
      },
      "source": [
        "#random array of floats (between 0 and 1)\n",
        "np.random.random((4,6))"
      ],
      "execution_count": 205,
      "outputs": [
        {
          "output_type": "execute_result",
          "data": {
            "text/plain": [
              "array([[0.61715053, 0.35188504, 0.17145913, 0.63453058, 0.100947  ,\n",
              "        0.61969418],\n",
              "       [0.43085222, 0.41042635, 0.14050843, 0.79586528, 0.00929803,\n",
              "        0.41718853],\n",
              "       [0.61386189, 0.42064291, 0.47651799, 0.10661653, 0.42951546,\n",
              "        0.62103024],\n",
              "       [0.52039356, 0.83815693, 0.95101064, 0.61952316, 0.79944777,\n",
              "        0.98181167]])"
            ]
          },
          "metadata": {},
          "execution_count": 205
        }
      ]
    },
    {
      "cell_type": "code",
      "metadata": {
        "colab": {
          "base_uri": "https://localhost:8080/"
        },
        "id": "KsAOH-NlVOPI",
        "outputId": "3ded50b2-e3cd-4e8b-8f2b-aa51150337dc"
      },
      "source": [
        "np.random.rand(4,6)"
      ],
      "execution_count": 206,
      "outputs": [
        {
          "output_type": "execute_result",
          "data": {
            "text/plain": [
              "array([[0.22359744, 0.48628185, 0.88256869, 0.56995129, 0.9321053 ,\n",
              "        0.54601118],\n",
              "       [0.65681573, 0.00519663, 0.14705693, 0.10627622, 0.02113541,\n",
              "        0.08677354],\n",
              "       [0.30470217, 0.64440812, 0.75204506, 0.40785734, 0.5487603 ,\n",
              "        0.46798273],\n",
              "       [0.44712524, 0.87354779, 0.47503079, 0.12010623, 0.4188069 ,\n",
              "        0.64660802]])"
            ]
          },
          "metadata": {},
          "execution_count": 206
        }
      ]
    },
    {
      "cell_type": "code",
      "metadata": {
        "colab": {
          "base_uri": "https://localhost:8080/"
        },
        "id": "d7F6fKBkW_zf",
        "outputId": "e5aeeef9-06a4-44a3-edf0-42444c1f601e"
      },
      "source": [
        "# SEED\n",
        "np.random.seed(42)\n",
        "random2=np.random.randint(10,size=(3,4))\n",
        "random2"
      ],
      "execution_count": 207,
      "outputs": [
        {
          "output_type": "execute_result",
          "data": {
            "text/plain": [
              "array([[6, 3, 7, 4],\n",
              "       [6, 9, 2, 6],\n",
              "       [7, 4, 3, 7]])"
            ]
          },
          "metadata": {},
          "execution_count": 207
        }
      ]
    },
    {
      "cell_type": "code",
      "metadata": {
        "colab": {
          "base_uri": "https://localhost:8080/"
        },
        "id": "ndcZqaSIXlUQ",
        "outputId": "f644ca3b-705d-416e-f3d7-2b8afe957e62"
      },
      "source": [
        "random2"
      ],
      "execution_count": 208,
      "outputs": [
        {
          "output_type": "execute_result",
          "data": {
            "text/plain": [
              "array([[6, 3, 7, 4],\n",
              "       [6, 9, 2, 6],\n",
              "       [7, 4, 3, 7]])"
            ]
          },
          "metadata": {},
          "execution_count": 208
        }
      ]
    },
    {
      "cell_type": "code",
      "metadata": {
        "id": "ZxOrEIdhYyCZ",
        "colab": {
          "base_uri": "https://localhost:8080/",
          "height": 235
        },
        "outputId": "c1769335-0671-4965-fc3a-7153ddc20875"
      },
      "source": [
        "df"
      ],
      "execution_count": 209,
      "outputs": [
        {
          "output_type": "execute_result",
          "data": {
            "text/html": [
              "<div>\n",
              "<style scoped>\n",
              "    .dataframe tbody tr th:only-of-type {\n",
              "        vertical-align: middle;\n",
              "    }\n",
              "\n",
              "    .dataframe tbody tr th {\n",
              "        vertical-align: top;\n",
              "    }\n",
              "\n",
              "    .dataframe thead th {\n",
              "        text-align: right;\n",
              "    }\n",
              "</style>\n",
              "<table border=\"1\" class=\"dataframe\">\n",
              "  <thead>\n",
              "    <tr style=\"text-align: right;\">\n",
              "      <th></th>\n",
              "      <th>a</th>\n",
              "      <th>b</th>\n",
              "      <th>c</th>\n",
              "      <th>d</th>\n",
              "    </tr>\n",
              "  </thead>\n",
              "  <tbody>\n",
              "    <tr>\n",
              "      <th>0</th>\n",
              "      <td>0</td>\n",
              "      <td>9</td>\n",
              "      <td>0</td>\n",
              "      <td>5</td>\n",
              "    </tr>\n",
              "    <tr>\n",
              "      <th>1</th>\n",
              "      <td>2</td>\n",
              "      <td>3</td>\n",
              "      <td>9</td>\n",
              "      <td>9</td>\n",
              "    </tr>\n",
              "    <tr>\n",
              "      <th>2</th>\n",
              "      <td>4</td>\n",
              "      <td>3</td>\n",
              "      <td>9</td>\n",
              "      <td>5</td>\n",
              "    </tr>\n",
              "    <tr>\n",
              "      <th>3</th>\n",
              "      <td>6</td>\n",
              "      <td>1</td>\n",
              "      <td>0</td>\n",
              "      <td>3</td>\n",
              "    </tr>\n",
              "    <tr>\n",
              "      <th>4</th>\n",
              "      <td>9</td>\n",
              "      <td>7</td>\n",
              "      <td>1</td>\n",
              "      <td>3</td>\n",
              "    </tr>\n",
              "    <tr>\n",
              "      <th>5</th>\n",
              "      <td>2</td>\n",
              "      <td>5</td>\n",
              "      <td>8</td>\n",
              "      <td>3</td>\n",
              "    </tr>\n",
              "  </tbody>\n",
              "</table>\n",
              "</div>"
            ],
            "text/plain": [
              "   a  b  c  d\n",
              "0  0  9  0  5\n",
              "1  2  3  9  9\n",
              "2  4  3  9  5\n",
              "3  6  1  0  3\n",
              "4  9  7  1  3\n",
              "5  2  5  8  3"
            ]
          },
          "metadata": {},
          "execution_count": 209
        }
      ]
    },
    {
      "cell_type": "code",
      "metadata": {
        "colab": {
          "base_uri": "https://localhost:8080/"
        },
        "id": "1L2ylmN8dbjr",
        "outputId": "70ff7bf3-85c0-4343-b5da-cf6805a8e6d6"
      },
      "source": [
        "a3"
      ],
      "execution_count": 210,
      "outputs": [
        {
          "output_type": "execute_result",
          "data": {
            "text/plain": [
              "array([[[ 1,  2,  3],\n",
              "        [ 4,  5,  6],\n",
              "        [ 7,  8,  9]],\n",
              "\n",
              "       [[10, 11, 12],\n",
              "        [13, 14, 15],\n",
              "        [16, 17, 18]]])"
            ]
          },
          "metadata": {},
          "execution_count": 210
        }
      ]
    },
    {
      "cell_type": "code",
      "metadata": {
        "colab": {
          "base_uri": "https://localhost:8080/"
        },
        "id": "I4qno_ohdf-T",
        "outputId": "f92a3be2-f959-4ec0-87ba-2a04457a4855"
      },
      "source": [
        "a3[0:2,1:,1:]"
      ],
      "execution_count": 211,
      "outputs": [
        {
          "output_type": "execute_result",
          "data": {
            "text/plain": [
              "array([[[ 5,  6],\n",
              "        [ 8,  9]],\n",
              "\n",
              "       [[14, 15],\n",
              "        [17, 18]]])"
            ]
          },
          "metadata": {},
          "execution_count": 211
        }
      ]
    },
    {
      "cell_type": "code",
      "metadata": {
        "id": "ovRmRDCmfRwC"
      },
      "source": [
        "a4=np.random.randint(10,size=(2,3,4,5))"
      ],
      "execution_count": 212,
      "outputs": []
    },
    {
      "cell_type": "code",
      "metadata": {
        "colab": {
          "base_uri": "https://localhost:8080/"
        },
        "id": "5feMGqRvfRDi",
        "outputId": "9629478b-83a5-4c8d-c28f-903d3e7e59bf"
      },
      "source": [
        "a4"
      ],
      "execution_count": 213,
      "outputs": [
        {
          "output_type": "execute_result",
          "data": {
            "text/plain": [
              "array([[[[7, 2, 5, 4, 1],\n",
              "         [7, 5, 1, 4, 0],\n",
              "         [9, 5, 8, 0, 9],\n",
              "         [2, 6, 3, 8, 2]],\n",
              "\n",
              "        [[4, 2, 6, 4, 8],\n",
              "         [6, 1, 3, 8, 1],\n",
              "         [9, 8, 9, 4, 1],\n",
              "         [3, 6, 7, 2, 0]],\n",
              "\n",
              "        [[3, 1, 7, 3, 1],\n",
              "         [5, 5, 9, 3, 5],\n",
              "         [1, 9, 1, 9, 3],\n",
              "         [7, 6, 8, 7, 4]]],\n",
              "\n",
              "\n",
              "       [[[1, 4, 7, 9, 8],\n",
              "         [8, 0, 8, 6, 8],\n",
              "         [7, 0, 7, 7, 2],\n",
              "         [0, 7, 2, 2, 0]],\n",
              "\n",
              "        [[4, 9, 6, 9, 8],\n",
              "         [6, 8, 7, 1, 0],\n",
              "         [6, 6, 7, 4, 2],\n",
              "         [7, 5, 2, 0, 2]],\n",
              "\n",
              "        [[4, 2, 0, 4, 9],\n",
              "         [6, 6, 8, 9, 9],\n",
              "         [2, 6, 0, 3, 3],\n",
              "         [4, 6, 6, 3, 6]]]])"
            ]
          },
          "metadata": {},
          "execution_count": 213
        }
      ]
    },
    {
      "cell_type": "code",
      "metadata": {
        "colab": {
          "base_uri": "https://localhost:8080/"
        },
        "id": "moycnhc3flJa",
        "outputId": "c9bae2b5-9075-4f23-bbd3-aa4423a68bad"
      },
      "source": [
        "a4.shape"
      ],
      "execution_count": 214,
      "outputs": [
        {
          "output_type": "execute_result",
          "data": {
            "text/plain": [
              "(2, 3, 4, 5)"
            ]
          },
          "metadata": {},
          "execution_count": 214
        }
      ]
    },
    {
      "cell_type": "code",
      "metadata": {
        "colab": {
          "base_uri": "https://localhost:8080/"
        },
        "id": "1zjGYn75fpf1",
        "outputId": "af27a510-cd28-4289-9725-f83a358fc898"
      },
      "source": [
        "a4.ndim"
      ],
      "execution_count": 215,
      "outputs": [
        {
          "output_type": "execute_result",
          "data": {
            "text/plain": [
              "4"
            ]
          },
          "metadata": {},
          "execution_count": 215
        }
      ]
    },
    {
      "cell_type": "code",
      "metadata": {
        "id": "A1MuIB1if0SL"
      },
      "source": [
        "#Get only the first 4 numbers of each single vactor"
      ],
      "execution_count": 216,
      "outputs": []
    },
    {
      "cell_type": "code",
      "metadata": {
        "colab": {
          "base_uri": "https://localhost:8080/"
        },
        "id": "McJfmJM4gG2u",
        "outputId": "c771dca0-a047-40d1-8487-ac87c4961036"
      },
      "source": [
        "a4[0:2,0:4,0:4,0:4]"
      ],
      "execution_count": 217,
      "outputs": [
        {
          "output_type": "execute_result",
          "data": {
            "text/plain": [
              "array([[[[7, 2, 5, 4],\n",
              "         [7, 5, 1, 4],\n",
              "         [9, 5, 8, 0],\n",
              "         [2, 6, 3, 8]],\n",
              "\n",
              "        [[4, 2, 6, 4],\n",
              "         [6, 1, 3, 8],\n",
              "         [9, 8, 9, 4],\n",
              "         [3, 6, 7, 2]],\n",
              "\n",
              "        [[3, 1, 7, 3],\n",
              "         [5, 5, 9, 3],\n",
              "         [1, 9, 1, 9],\n",
              "         [7, 6, 8, 7]]],\n",
              "\n",
              "\n",
              "       [[[1, 4, 7, 9],\n",
              "         [8, 0, 8, 6],\n",
              "         [7, 0, 7, 7],\n",
              "         [0, 7, 2, 2]],\n",
              "\n",
              "        [[4, 9, 6, 9],\n",
              "         [6, 8, 7, 1],\n",
              "         [6, 6, 7, 4],\n",
              "         [7, 5, 2, 0]],\n",
              "\n",
              "        [[4, 2, 0, 4],\n",
              "         [6, 6, 8, 9],\n",
              "         [2, 6, 0, 3],\n",
              "         [4, 6, 6, 3]]]])"
            ]
          },
          "metadata": {},
          "execution_count": 217
        }
      ]
    },
    {
      "cell_type": "code",
      "metadata": {
        "id": "UEblSOjMjISs"
      },
      "source": [
        "# arithmetic"
      ],
      "execution_count": 218,
      "outputs": []
    },
    {
      "cell_type": "code",
      "metadata": {
        "colab": {
          "base_uri": "https://localhost:8080/"
        },
        "id": "C20LbSoVjLPG",
        "outputId": "3604f403-9e53-4e42-bc4e-638b007b791d"
      },
      "source": [
        "a1"
      ],
      "execution_count": 219,
      "outputs": [
        {
          "output_type": "execute_result",
          "data": {
            "text/plain": [
              "array([1, 2, 3])"
            ]
          },
          "metadata": {},
          "execution_count": 219
        }
      ]
    },
    {
      "cell_type": "code",
      "metadata": {
        "id": "0g2ogBELjUPN"
      },
      "source": [
        "ones=np.ones(3)"
      ],
      "execution_count": 220,
      "outputs": []
    },
    {
      "cell_type": "code",
      "metadata": {
        "colab": {
          "base_uri": "https://localhost:8080/"
        },
        "id": "5IVnNDvVjYmD",
        "outputId": "1cb2c449-180f-441c-c0a3-61870acd2f2f"
      },
      "source": [
        "a1+ones"
      ],
      "execution_count": 221,
      "outputs": [
        {
          "output_type": "execute_result",
          "data": {
            "text/plain": [
              "array([2., 3., 4.])"
            ]
          },
          "metadata": {},
          "execution_count": 221
        }
      ]
    },
    {
      "cell_type": "code",
      "metadata": {
        "colab": {
          "base_uri": "https://localhost:8080/"
        },
        "id": "giUEOEsYjgfw",
        "outputId": "67c436b1-2b16-46f7-9c4f-642bdcb7730a"
      },
      "source": [
        "a1-ones"
      ],
      "execution_count": 222,
      "outputs": [
        {
          "output_type": "execute_result",
          "data": {
            "text/plain": [
              "array([0., 1., 2.])"
            ]
          },
          "metadata": {},
          "execution_count": 222
        }
      ]
    },
    {
      "cell_type": "code",
      "metadata": {
        "colab": {
          "base_uri": "https://localhost:8080/"
        },
        "id": "8h3sFjunjjwT",
        "outputId": "5bc7b39b-58df-4f9f-9cd4-8d0bd32e4d9a"
      },
      "source": [
        "a1*ones"
      ],
      "execution_count": 223,
      "outputs": [
        {
          "output_type": "execute_result",
          "data": {
            "text/plain": [
              "array([1., 2., 3.])"
            ]
          },
          "metadata": {},
          "execution_count": 223
        }
      ]
    },
    {
      "cell_type": "code",
      "metadata": {
        "colab": {
          "base_uri": "https://localhost:8080/"
        },
        "id": "uTDdxSGOjmFz",
        "outputId": "f300fb73-7b0f-4a97-b0c7-c75fda0e93b0"
      },
      "source": [
        "a2"
      ],
      "execution_count": 224,
      "outputs": [
        {
          "output_type": "execute_result",
          "data": {
            "text/plain": [
              "array([[1, 2, 3],\n",
              "       [4, 5, 6]])"
            ]
          },
          "metadata": {},
          "execution_count": 224
        }
      ]
    },
    {
      "cell_type": "code",
      "metadata": {
        "colab": {
          "base_uri": "https://localhost:8080/"
        },
        "id": "2b8sklMfjs-C",
        "outputId": "388890ff-323d-4080-9fba-9f9cdcbc0888"
      },
      "source": [
        "a3"
      ],
      "execution_count": 225,
      "outputs": [
        {
          "output_type": "execute_result",
          "data": {
            "text/plain": [
              "array([[[ 1,  2,  3],\n",
              "        [ 4,  5,  6],\n",
              "        [ 7,  8,  9]],\n",
              "\n",
              "       [[10, 11, 12],\n",
              "        [13, 14, 15],\n",
              "        [16, 17, 18]]])"
            ]
          },
          "metadata": {},
          "execution_count": 225
        }
      ]
    },
    {
      "cell_type": "code",
      "metadata": {
        "id": "xBrULyPMjutz"
      },
      "source": [
        "# no a2*a3"
      ],
      "execution_count": 226,
      "outputs": []
    },
    {
      "cell_type": "code",
      "metadata": {
        "colab": {
          "base_uri": "https://localhost:8080/"
        },
        "id": "Y4Q4oZOdjxNy",
        "outputId": "2da3088c-eede-4e04-bd71-c4094adf7732"
      },
      "source": [
        "# integer division \n",
        "a2//a1"
      ],
      "execution_count": 227,
      "outputs": [
        {
          "output_type": "execute_result",
          "data": {
            "text/plain": [
              "array([[1, 1, 1],\n",
              "       [4, 2, 2]])"
            ]
          },
          "metadata": {},
          "execution_count": 227
        }
      ]
    },
    {
      "cell_type": "code",
      "metadata": {
        "colab": {
          "base_uri": "https://localhost:8080/"
        },
        "id": "KdTxwdrpj0-8",
        "outputId": "488d77c0-f699-4e1e-955e-be466673fd41"
      },
      "source": [
        "np.square(a2)"
      ],
      "execution_count": 228,
      "outputs": [
        {
          "output_type": "execute_result",
          "data": {
            "text/plain": [
              "array([[ 1,  4,  9],\n",
              "       [16, 25, 36]])"
            ]
          },
          "metadata": {},
          "execution_count": 228
        }
      ]
    },
    {
      "cell_type": "code",
      "metadata": {
        "colab": {
          "base_uri": "https://localhost:8080/"
        },
        "id": "5QAcqku-kD0D",
        "outputId": "d562e332-2585-452d-f304-04604bde10d8"
      },
      "source": [
        "a2%2"
      ],
      "execution_count": 229,
      "outputs": [
        {
          "output_type": "execute_result",
          "data": {
            "text/plain": [
              "array([[1, 0, 1],\n",
              "       [0, 1, 0]])"
            ]
          },
          "metadata": {},
          "execution_count": 229
        }
      ]
    },
    {
      "cell_type": "code",
      "metadata": {
        "colab": {
          "base_uri": "https://localhost:8080/"
        },
        "id": "XqgHCiJqkHI7",
        "outputId": "e0ce6fe2-e049-4426-bfe8-da440b34926b"
      },
      "source": [
        "np.log(a2)"
      ],
      "execution_count": 230,
      "outputs": [
        {
          "output_type": "execute_result",
          "data": {
            "text/plain": [
              "array([[0.        , 0.69314718, 1.09861229],\n",
              "       [1.38629436, 1.60943791, 1.79175947]])"
            ]
          },
          "metadata": {},
          "execution_count": 230
        }
      ]
    },
    {
      "cell_type": "code",
      "metadata": {
        "colab": {
          "base_uri": "https://localhost:8080/"
        },
        "id": "1ROVog9tkLoT",
        "outputId": "87f43311-9aac-454d-c98d-5236b1533646"
      },
      "source": [
        "np.exp(a2)"
      ],
      "execution_count": 231,
      "outputs": [
        {
          "output_type": "execute_result",
          "data": {
            "text/plain": [
              "array([[  2.71828183,   7.3890561 ,  20.08553692],\n",
              "       [ 54.59815003, 148.4131591 , 403.42879349]])"
            ]
          },
          "metadata": {},
          "execution_count": 231
        }
      ]
    },
    {
      "cell_type": "code",
      "metadata": {
        "id": "4JOX5QJxmzAn"
      },
      "source": [
        "# aggregation "
      ],
      "execution_count": 232,
      "outputs": []
    },
    {
      "cell_type": "code",
      "metadata": {
        "colab": {
          "base_uri": "https://localhost:8080/"
        },
        "id": "AzEmILdanBvI",
        "outputId": "17b80360-1c8a-4483-e5f4-09ed265fe2f6"
      },
      "source": [
        "a1"
      ],
      "execution_count": 233,
      "outputs": [
        {
          "output_type": "execute_result",
          "data": {
            "text/plain": [
              "array([1, 2, 3])"
            ]
          },
          "metadata": {},
          "execution_count": 233
        }
      ]
    },
    {
      "cell_type": "code",
      "metadata": {
        "colab": {
          "base_uri": "https://localhost:8080/"
        },
        "id": "pvUwQqD7nD4n",
        "outputId": "f7dcf6e5-2e62-4010-946f-021be2373ea0"
      },
      "source": [
        "sum(a1)"
      ],
      "execution_count": 234,
      "outputs": [
        {
          "output_type": "execute_result",
          "data": {
            "text/plain": [
              "6"
            ]
          },
          "metadata": {},
          "execution_count": 234
        }
      ]
    },
    {
      "cell_type": "code",
      "metadata": {
        "id": "w3tS_KGFnG19"
      },
      "source": [
        "massive_array=np.random.random(1000000)"
      ],
      "execution_count": 235,
      "outputs": []
    },
    {
      "cell_type": "code",
      "metadata": {
        "colab": {
          "base_uri": "https://localhost:8080/"
        },
        "id": "j_NqjXi_nNqt",
        "outputId": "4907be48-9de7-4f06-a630-11ce4e3d6e12"
      },
      "source": [
        "massive_array"
      ],
      "execution_count": 236,
      "outputs": [
        {
          "output_type": "execute_result",
          "data": {
            "text/plain": [
              "array([0.28975145, 0.16122129, 0.92969765, ..., 0.78922956, 0.88071207,\n",
              "       0.51082235])"
            ]
          },
          "metadata": {},
          "execution_count": 236
        }
      ]
    },
    {
      "cell_type": "code",
      "metadata": {
        "colab": {
          "base_uri": "https://localhost:8080/"
        },
        "id": "pQrOTBqxnRx9",
        "outputId": "6d71ea4a-f3ad-4eb5-bf85-ad8d090abf82"
      },
      "source": [
        "len(massive_array)"
      ],
      "execution_count": 237,
      "outputs": [
        {
          "output_type": "execute_result",
          "data": {
            "text/plain": [
              "1000000"
            ]
          },
          "metadata": {},
          "execution_count": 237
        }
      ]
    },
    {
      "cell_type": "code",
      "metadata": {
        "colab": {
          "base_uri": "https://localhost:8080/"
        },
        "id": "N3haKXlWnkD2",
        "outputId": "a9cc771f-039c-4aee-f882-33dcdb725508"
      },
      "source": [
        "# python sum\n",
        "%timeit sum(massive_array)"
      ],
      "execution_count": 238,
      "outputs": [
        {
          "output_type": "stream",
          "name": "stdout",
          "text": [
            "10 loops, best of 5: 167 ms per loop\n"
          ]
        }
      ]
    },
    {
      "cell_type": "code",
      "metadata": {
        "colab": {
          "base_uri": "https://localhost:8080/"
        },
        "id": "Uz2_v5ikn3ju",
        "outputId": "ee45ea58-5be3-4b95-f3b1-d995e04a7402"
      },
      "source": [
        "# numpy sum\n",
        "%timeit np.sum(massive_array)"
      ],
      "execution_count": 239,
      "outputs": [
        {
          "output_type": "stream",
          "name": "stdout",
          "text": [
            "1000 loops, best of 5: 349 µs per loop\n"
          ]
        }
      ]
    },
    {
      "cell_type": "code",
      "metadata": {
        "colab": {
          "base_uri": "https://localhost:8080/"
        },
        "id": "l1XvbeN6oDLc",
        "outputId": "d1cd9621-b6f5-4695-cd22-a628b7db5f72"
      },
      "source": [
        "# python mean\n",
        "%timeit (massive_array).mean()"
      ],
      "execution_count": 240,
      "outputs": [
        {
          "output_type": "stream",
          "name": "stdout",
          "text": [
            "1000 loops, best of 5: 339 µs per loop\n"
          ]
        }
      ]
    },
    {
      "cell_type": "code",
      "metadata": {
        "colab": {
          "base_uri": "https://localhost:8080/"
        },
        "id": "c5cmBpYpoRZ4",
        "outputId": "add9a56c-2c0f-4ab2-c043-43481e840fc1"
      },
      "source": [
        "# numpy mean\n",
        "%timeit np.mean(massive_array)"
      ],
      "execution_count": 241,
      "outputs": [
        {
          "output_type": "stream",
          "name": "stdout",
          "text": [
            "1000 loops, best of 5: 350 µs per loop\n"
          ]
        }
      ]
    },
    {
      "cell_type": "code",
      "metadata": {
        "colab": {
          "base_uri": "https://localhost:8080/"
        },
        "id": "0ofRbcfYobrY",
        "outputId": "907f9766-ba2f-472b-fbe6-1d6132a1b19f"
      },
      "source": [
        "np.max(a2)"
      ],
      "execution_count": 242,
      "outputs": [
        {
          "output_type": "execute_result",
          "data": {
            "text/plain": [
              "6"
            ]
          },
          "metadata": {},
          "execution_count": 242
        }
      ]
    },
    {
      "cell_type": "code",
      "metadata": {
        "colab": {
          "base_uri": "https://localhost:8080/"
        },
        "id": "61EBYne1ofJz",
        "outputId": "38313196-6761-40f6-be74-9a0a98fe813c"
      },
      "source": [
        "np.mean(a3)"
      ],
      "execution_count": 243,
      "outputs": [
        {
          "output_type": "execute_result",
          "data": {
            "text/plain": [
              "9.5"
            ]
          },
          "metadata": {},
          "execution_count": 243
        }
      ]
    },
    {
      "cell_type": "code",
      "metadata": {
        "colab": {
          "base_uri": "https://localhost:8080/"
        },
        "id": "wMTFIqnWoiPT",
        "outputId": "7699a9f4-a65f-485d-f53a-55e7e8d249f2"
      },
      "source": [
        "# standard deviation\n",
        "np.std(a3)"
      ],
      "execution_count": 244,
      "outputs": [
        {
          "output_type": "execute_result",
          "data": {
            "text/plain": [
              "5.188127472091127"
            ]
          },
          "metadata": {},
          "execution_count": 244
        }
      ]
    },
    {
      "cell_type": "code",
      "metadata": {
        "colab": {
          "base_uri": "https://localhost:8080/"
        },
        "id": "dFtaLievonsX",
        "outputId": "0bff7df5-199c-4de9-93fb-83cd178ff473"
      },
      "source": [
        "# variance\n",
        "np.var(a3)"
      ],
      "execution_count": 245,
      "outputs": [
        {
          "output_type": "execute_result",
          "data": {
            "text/plain": [
              "26.916666666666668"
            ]
          },
          "metadata": {},
          "execution_count": 245
        }
      ]
    },
    {
      "cell_type": "code",
      "metadata": {
        "id": "Fa29bucCF9we"
      },
      "source": [
        "# reshapping "
      ],
      "execution_count": 246,
      "outputs": []
    },
    {
      "cell_type": "code",
      "metadata": {
        "colab": {
          "base_uri": "https://localhost:8080/"
        },
        "id": "4KuBN6TyGA0Q",
        "outputId": "d684dc89-8efd-4c8d-9dcb-b9d85166d545"
      },
      "source": [
        "a2"
      ],
      "execution_count": 247,
      "outputs": [
        {
          "output_type": "execute_result",
          "data": {
            "text/plain": [
              "array([[1, 2, 3],\n",
              "       [4, 5, 6]])"
            ]
          },
          "metadata": {},
          "execution_count": 247
        }
      ]
    },
    {
      "cell_type": "code",
      "metadata": {
        "colab": {
          "base_uri": "https://localhost:8080/"
        },
        "id": "b_ZkvwRsGNYB",
        "outputId": "b224330f-23f3-416d-bc3e-7ad1503e1f52"
      },
      "source": [
        "a2.shape"
      ],
      "execution_count": 248,
      "outputs": [
        {
          "output_type": "execute_result",
          "data": {
            "text/plain": [
              "(2, 3)"
            ]
          },
          "metadata": {},
          "execution_count": 248
        }
      ]
    },
    {
      "cell_type": "code",
      "metadata": {
        "colab": {
          "base_uri": "https://localhost:8080/"
        },
        "id": "Oo07y3J9GEBC",
        "outputId": "5951fa36-326d-4969-c7b0-a948feec55f3"
      },
      "source": [
        "a2.reshape(2,3,1)"
      ],
      "execution_count": 249,
      "outputs": [
        {
          "output_type": "execute_result",
          "data": {
            "text/plain": [
              "array([[[1],\n",
              "        [2],\n",
              "        [3]],\n",
              "\n",
              "       [[4],\n",
              "        [5],\n",
              "        [6]]])"
            ]
          },
          "metadata": {},
          "execution_count": 249
        }
      ]
    },
    {
      "cell_type": "code",
      "metadata": {
        "id": "-KuUuTAeGSjg"
      },
      "source": [
        "# no a2+a3"
      ],
      "execution_count": 250,
      "outputs": []
    },
    {
      "cell_type": "code",
      "metadata": {
        "colab": {
          "base_uri": "https://localhost:8080/"
        },
        "id": "hP-LmOoDGUYl",
        "outputId": "ca6193a7-4014-4a40-dd71-852012f37bb3"
      },
      "source": [
        "a2.reshape(2,3,1)+a3"
      ],
      "execution_count": 251,
      "outputs": [
        {
          "output_type": "execute_result",
          "data": {
            "text/plain": [
              "array([[[ 2,  3,  4],\n",
              "        [ 6,  7,  8],\n",
              "        [10, 11, 12]],\n",
              "\n",
              "       [[14, 15, 16],\n",
              "        [18, 19, 20],\n",
              "        [22, 23, 24]]])"
            ]
          },
          "metadata": {},
          "execution_count": 251
        }
      ]
    },
    {
      "cell_type": "code",
      "metadata": {
        "id": "j_fec24NIfc0"
      },
      "source": [
        "# Transpose"
      ],
      "execution_count": 252,
      "outputs": []
    },
    {
      "cell_type": "code",
      "metadata": {
        "colab": {
          "base_uri": "https://localhost:8080/"
        },
        "id": "6chhOunqIr93",
        "outputId": "480bad5b-6ab4-48e9-92ed-7e712ec84cc9"
      },
      "source": [
        "a2"
      ],
      "execution_count": 253,
      "outputs": [
        {
          "output_type": "execute_result",
          "data": {
            "text/plain": [
              "array([[1, 2, 3],\n",
              "       [4, 5, 6]])"
            ]
          },
          "metadata": {},
          "execution_count": 253
        }
      ]
    },
    {
      "cell_type": "code",
      "metadata": {
        "colab": {
          "base_uri": "https://localhost:8080/"
        },
        "id": "4W9GIAaVItZC",
        "outputId": "605f6b9a-eefb-4cb7-88d8-0626cfc94e50"
      },
      "source": [
        "a2.T"
      ],
      "execution_count": 254,
      "outputs": [
        {
          "output_type": "execute_result",
          "data": {
            "text/plain": [
              "array([[1, 4],\n",
              "       [2, 5],\n",
              "       [3, 6]])"
            ]
          },
          "metadata": {},
          "execution_count": 254
        }
      ]
    },
    {
      "cell_type": "code",
      "metadata": {
        "id": "pqU-nzDXIwXs"
      },
      "source": [
        "matrix=np.random.random(size=(5,3,3))"
      ],
      "execution_count": 255,
      "outputs": []
    },
    {
      "cell_type": "code",
      "metadata": {
        "colab": {
          "base_uri": "https://localhost:8080/"
        },
        "id": "y5pRFGblJFW0",
        "outputId": "202247fa-76a8-4488-d53d-9631d74245fc"
      },
      "source": [
        "matrix"
      ],
      "execution_count": 256,
      "outputs": [
        {
          "output_type": "execute_result",
          "data": {
            "text/plain": [
              "array([[[0.82454823, 0.60977511, 0.33084067],\n",
              "        [0.70547804, 0.31757282, 0.00450706],\n",
              "        [0.1047841 , 0.47534581, 0.97946659]],\n",
              "\n",
              "       [[0.11482341, 0.2209777 , 0.18482781],\n",
              "        [0.60277889, 0.73771636, 0.38754878],\n",
              "        [0.95795755, 0.6445825 , 0.9637955 ]],\n",
              "\n",
              "       [[0.68180632, 0.03960955, 0.02198705],\n",
              "        [0.04148896, 0.84754578, 0.52993851],\n",
              "        [0.45985928, 0.76007621, 0.62260557]],\n",
              "\n",
              "       [[0.23966158, 0.37372189, 0.84484975],\n",
              "        [0.36829795, 0.5506651 , 0.74631265],\n",
              "        [0.14826063, 0.18803948, 0.92261084]],\n",
              "\n",
              "       [[0.75719339, 0.66433481, 0.82835909],\n",
              "        [0.99992596, 0.42000928, 0.32304731],\n",
              "        [0.18149027, 0.51075879, 0.88835281]]])"
            ]
          },
          "metadata": {},
          "execution_count": 256
        }
      ]
    },
    {
      "cell_type": "code",
      "metadata": {
        "colab": {
          "base_uri": "https://localhost:8080/"
        },
        "id": "1oPRwy5dJM-R",
        "outputId": "8805f134-e3b6-4979-e084-8cb55cf77eeb"
      },
      "source": [
        "matrix.T"
      ],
      "execution_count": 257,
      "outputs": [
        {
          "output_type": "execute_result",
          "data": {
            "text/plain": [
              "array([[[0.82454823, 0.11482341, 0.68180632, 0.23966158, 0.75719339],\n",
              "        [0.70547804, 0.60277889, 0.04148896, 0.36829795, 0.99992596],\n",
              "        [0.1047841 , 0.95795755, 0.45985928, 0.14826063, 0.18149027]],\n",
              "\n",
              "       [[0.60977511, 0.2209777 , 0.03960955, 0.37372189, 0.66433481],\n",
              "        [0.31757282, 0.73771636, 0.84754578, 0.5506651 , 0.42000928],\n",
              "        [0.47534581, 0.6445825 , 0.76007621, 0.18803948, 0.51075879]],\n",
              "\n",
              "       [[0.33084067, 0.18482781, 0.02198705, 0.84484975, 0.82835909],\n",
              "        [0.00450706, 0.38754878, 0.52993851, 0.74631265, 0.32304731],\n",
              "        [0.97946659, 0.9637955 , 0.62260557, 0.92261084, 0.88835281]]])"
            ]
          },
          "metadata": {},
          "execution_count": 257
        }
      ]
    },
    {
      "cell_type": "code",
      "metadata": {
        "id": "n2zhUSNaJRv8"
      },
      "source": [
        "np.random.seed(42)\n",
        "mat1=np.random.randint(10, size=(4,3))\n",
        "mat2=np.random.randint(10, size=(3,5))"
      ],
      "execution_count": 258,
      "outputs": []
    },
    {
      "cell_type": "code",
      "metadata": {
        "colab": {
          "base_uri": "https://localhost:8080/"
        },
        "id": "AAqnQvKpJ3rJ",
        "outputId": "b7ddd0ff-b8c5-4ead-c1f7-dde7e2114a2a"
      },
      "source": [
        "np.dot(mat1,mat2)"
      ],
      "execution_count": 259,
      "outputs": [
        {
          "output_type": "execute_result",
          "data": {
            "text/plain": [
              "array([[126,  62,  89,  36,  69],\n",
              "       [151,  83,  98,  40,  85],\n",
              "       [119,  69,  72,  32,  65],\n",
              "       [112,  58,  79,  28,  67]])"
            ]
          },
          "metadata": {},
          "execution_count": 259
        }
      ]
    },
    {
      "cell_type": "code",
      "metadata": {
        "id": "8EoMfwUhKCk8"
      },
      "source": [
        "mat3=np.random.randint(10, size=(4,3))"
      ],
      "execution_count": 260,
      "outputs": []
    },
    {
      "cell_type": "code",
      "metadata": {
        "colab": {
          "base_uri": "https://localhost:8080/"
        },
        "id": "Wr2qGWXbKBku",
        "outputId": "2687cec3-5062-4525-ed35-3d6fc6409867"
      },
      "source": [
        "np.dot(mat1.T,mat3)"
      ],
      "execution_count": 261,
      "outputs": [
        {
          "output_type": "execute_result",
          "data": {
            "text/plain": [
              "array([[ 80,  80,  46],\n",
              "       [ 90,  84,  60],\n",
              "       [156, 144,  92]])"
            ]
          },
          "metadata": {},
          "execution_count": 261
        }
      ]
    },
    {
      "cell_type": "code",
      "metadata": {
        "id": "ehdaP4w5Ke23"
      },
      "source": [
        "# practical example of dot product"
      ],
      "execution_count": 262,
      "outputs": []
    },
    {
      "cell_type": "code",
      "metadata": {
        "colab": {
          "base_uri": "https://localhost:8080/"
        },
        "id": "jFoieVsSOk8D",
        "outputId": "7c0c527a-3057-4098-c092-5538f8ca9eb7"
      },
      "source": [
        "np.random.seed(42)\n",
        "sales_amounts=np.random.randint(20, size=(5,3))\n",
        "sales_amounts"
      ],
      "execution_count": 263,
      "outputs": [
        {
          "output_type": "execute_result",
          "data": {
            "text/plain": [
              "array([[ 6, 19, 14],\n",
              "       [10,  7,  6],\n",
              "       [18, 10, 10],\n",
              "       [ 3,  7,  2],\n",
              "       [ 1, 11,  5]])"
            ]
          },
          "metadata": {},
          "execution_count": 263
        }
      ]
    },
    {
      "cell_type": "code",
      "metadata": {
        "colab": {
          "base_uri": "https://localhost:8080/",
          "height": 204
        },
        "id": "3s0gOWS8O05Q",
        "outputId": "f93f7afc-5dfd-429e-ef56-a28b8a94d582"
      },
      "source": [
        "weekly_sales=pd.DataFrame(sales_amounts, index=[\"lunes\",'martes',\"miercoles\",\"jueves\",\"viernes\"],\n",
        "                          columns=[\"dogs\",\"cats\",\"parrots\"])\n",
        "weekly_sales"
      ],
      "execution_count": 264,
      "outputs": [
        {
          "output_type": "execute_result",
          "data": {
            "text/html": [
              "<div>\n",
              "<style scoped>\n",
              "    .dataframe tbody tr th:only-of-type {\n",
              "        vertical-align: middle;\n",
              "    }\n",
              "\n",
              "    .dataframe tbody tr th {\n",
              "        vertical-align: top;\n",
              "    }\n",
              "\n",
              "    .dataframe thead th {\n",
              "        text-align: right;\n",
              "    }\n",
              "</style>\n",
              "<table border=\"1\" class=\"dataframe\">\n",
              "  <thead>\n",
              "    <tr style=\"text-align: right;\">\n",
              "      <th></th>\n",
              "      <th>dogs</th>\n",
              "      <th>cats</th>\n",
              "      <th>parrots</th>\n",
              "    </tr>\n",
              "  </thead>\n",
              "  <tbody>\n",
              "    <tr>\n",
              "      <th>lunes</th>\n",
              "      <td>6</td>\n",
              "      <td>19</td>\n",
              "      <td>14</td>\n",
              "    </tr>\n",
              "    <tr>\n",
              "      <th>martes</th>\n",
              "      <td>10</td>\n",
              "      <td>7</td>\n",
              "      <td>6</td>\n",
              "    </tr>\n",
              "    <tr>\n",
              "      <th>miercoles</th>\n",
              "      <td>18</td>\n",
              "      <td>10</td>\n",
              "      <td>10</td>\n",
              "    </tr>\n",
              "    <tr>\n",
              "      <th>jueves</th>\n",
              "      <td>3</td>\n",
              "      <td>7</td>\n",
              "      <td>2</td>\n",
              "    </tr>\n",
              "    <tr>\n",
              "      <th>viernes</th>\n",
              "      <td>1</td>\n",
              "      <td>11</td>\n",
              "      <td>5</td>\n",
              "    </tr>\n",
              "  </tbody>\n",
              "</table>\n",
              "</div>"
            ],
            "text/plain": [
              "           dogs  cats  parrots\n",
              "lunes         6    19       14\n",
              "martes       10     7        6\n",
              "miercoles    18    10       10\n",
              "jueves        3     7        2\n",
              "viernes       1    11        5"
            ]
          },
          "metadata": {},
          "execution_count": 264
        }
      ]
    },
    {
      "cell_type": "code",
      "metadata": {
        "colab": {
          "base_uri": "https://localhost:8080/"
        },
        "id": "GSfsgDTaQChe",
        "outputId": "2c60bac2-2f0a-4b1b-8d70-463833e3b98e"
      },
      "source": [
        "prices=np.array([10,8,5])\n",
        "prices"
      ],
      "execution_count": 265,
      "outputs": [
        {
          "output_type": "execute_result",
          "data": {
            "text/plain": [
              "array([10,  8,  5])"
            ]
          },
          "metadata": {},
          "execution_count": 265
        }
      ]
    },
    {
      "cell_type": "code",
      "metadata": {
        "colab": {
          "base_uri": "https://localhost:8080/",
          "height": 80
        },
        "id": "fSHCrD-GP25u",
        "outputId": "311c4f61-544e-454b-ee8c-a374d91226d5"
      },
      "source": [
        "animals_prices=pd.DataFrame(prices.reshape(1,3), index=[\"sale\"], columns=[\"dogs\",\"cats\",\"parrots\"])\n",
        "animals_prices"
      ],
      "execution_count": 266,
      "outputs": [
        {
          "output_type": "execute_result",
          "data": {
            "text/html": [
              "<div>\n",
              "<style scoped>\n",
              "    .dataframe tbody tr th:only-of-type {\n",
              "        vertical-align: middle;\n",
              "    }\n",
              "\n",
              "    .dataframe tbody tr th {\n",
              "        vertical-align: top;\n",
              "    }\n",
              "\n",
              "    .dataframe thead th {\n",
              "        text-align: right;\n",
              "    }\n",
              "</style>\n",
              "<table border=\"1\" class=\"dataframe\">\n",
              "  <thead>\n",
              "    <tr style=\"text-align: right;\">\n",
              "      <th></th>\n",
              "      <th>dogs</th>\n",
              "      <th>cats</th>\n",
              "      <th>parrots</th>\n",
              "    </tr>\n",
              "  </thead>\n",
              "  <tbody>\n",
              "    <tr>\n",
              "      <th>sale</th>\n",
              "      <td>10</td>\n",
              "      <td>8</td>\n",
              "      <td>5</td>\n",
              "    </tr>\n",
              "  </tbody>\n",
              "</table>\n",
              "</div>"
            ],
            "text/plain": [
              "      dogs  cats  parrots\n",
              "sale    10     8        5"
            ]
          },
          "metadata": {},
          "execution_count": 266
        }
      ]
    },
    {
      "cell_type": "code",
      "metadata": {
        "colab": {
          "base_uri": "https://localhost:8080/",
          "height": 204
        },
        "id": "q5KfcDvHQoLp",
        "outputId": "af625670-d091-42ad-c39a-bf7f4f91e948"
      },
      "source": [
        "total_sales=weekly_sales.dot(animals_prices.T)\n",
        "total_sales"
      ],
      "execution_count": 267,
      "outputs": [
        {
          "output_type": "execute_result",
          "data": {
            "text/html": [
              "<div>\n",
              "<style scoped>\n",
              "    .dataframe tbody tr th:only-of-type {\n",
              "        vertical-align: middle;\n",
              "    }\n",
              "\n",
              "    .dataframe tbody tr th {\n",
              "        vertical-align: top;\n",
              "    }\n",
              "\n",
              "    .dataframe thead th {\n",
              "        text-align: right;\n",
              "    }\n",
              "</style>\n",
              "<table border=\"1\" class=\"dataframe\">\n",
              "  <thead>\n",
              "    <tr style=\"text-align: right;\">\n",
              "      <th></th>\n",
              "      <th>sale</th>\n",
              "    </tr>\n",
              "  </thead>\n",
              "  <tbody>\n",
              "    <tr>\n",
              "      <th>lunes</th>\n",
              "      <td>282</td>\n",
              "    </tr>\n",
              "    <tr>\n",
              "      <th>martes</th>\n",
              "      <td>186</td>\n",
              "    </tr>\n",
              "    <tr>\n",
              "      <th>miercoles</th>\n",
              "      <td>310</td>\n",
              "    </tr>\n",
              "    <tr>\n",
              "      <th>jueves</th>\n",
              "      <td>96</td>\n",
              "    </tr>\n",
              "    <tr>\n",
              "      <th>viernes</th>\n",
              "      <td>123</td>\n",
              "    </tr>\n",
              "  </tbody>\n",
              "</table>\n",
              "</div>"
            ],
            "text/plain": [
              "           sale\n",
              "lunes       282\n",
              "martes      186\n",
              "miercoles   310\n",
              "jueves       96\n",
              "viernes     123"
            ]
          },
          "metadata": {},
          "execution_count": 267
        }
      ]
    },
    {
      "cell_type": "markdown",
      "metadata": {
        "id": "GeEfrzqbVnkK"
      },
      "source": [
        "comparison operators"
      ]
    },
    {
      "cell_type": "code",
      "metadata": {
        "colab": {
          "base_uri": "https://localhost:8080/"
        },
        "id": "eUilE1x3VrSG",
        "outputId": "d8a2f719-7d6d-478a-d5c5-541b3105c901"
      },
      "source": [
        "a1\n"
      ],
      "execution_count": 268,
      "outputs": [
        {
          "output_type": "execute_result",
          "data": {
            "text/plain": [
              "array([1, 2, 3])"
            ]
          },
          "metadata": {},
          "execution_count": 268
        }
      ]
    },
    {
      "cell_type": "code",
      "metadata": {
        "colab": {
          "base_uri": "https://localhost:8080/"
        },
        "id": "0WEsqwXHWSDX",
        "outputId": "abb20a5d-ec4d-4b85-8f0a-7954fd1118d8"
      },
      "source": [
        "a1>a2"
      ],
      "execution_count": 269,
      "outputs": [
        {
          "output_type": "execute_result",
          "data": {
            "text/plain": [
              "array([[False, False, False],\n",
              "       [False, False, False]])"
            ]
          },
          "metadata": {},
          "execution_count": 269
        }
      ]
    },
    {
      "cell_type": "code",
      "metadata": {
        "colab": {
          "base_uri": "https://localhost:8080/"
        },
        "id": "98NtKZ5yWVA2",
        "outputId": "250f031b-8b8e-47bd-a01f-431ff0e50aed"
      },
      "source": [
        "a1>=a2"
      ],
      "execution_count": 270,
      "outputs": [
        {
          "output_type": "execute_result",
          "data": {
            "text/plain": [
              "array([[ True,  True,  True],\n",
              "       [False, False, False]])"
            ]
          },
          "metadata": {},
          "execution_count": 270
        }
      ]
    },
    {
      "cell_type": "code",
      "metadata": {
        "colab": {
          "base_uri": "https://localhost:8080/"
        },
        "id": "WDVUMvoxWbaV",
        "outputId": "5b2b7761-5c6c-4d9a-9d70-ea1d061e3761"
      },
      "source": [
        "a1>5"
      ],
      "execution_count": 271,
      "outputs": [
        {
          "output_type": "execute_result",
          "data": {
            "text/plain": [
              "array([False, False, False])"
            ]
          },
          "metadata": {},
          "execution_count": 271
        }
      ]
    },
    {
      "cell_type": "code",
      "metadata": {
        "colab": {
          "base_uri": "https://localhost:8080/"
        },
        "id": "Fqmxs4JiWdpX",
        "outputId": "b28c5c31-4586-4cb3-9efd-69436039df0b"
      },
      "source": [
        "a1==a2"
      ],
      "execution_count": 272,
      "outputs": [
        {
          "output_type": "execute_result",
          "data": {
            "text/plain": [
              "array([[ True,  True,  True],\n",
              "       [False, False, False]])"
            ]
          },
          "metadata": {},
          "execution_count": 272
        }
      ]
    },
    {
      "cell_type": "markdown",
      "metadata": {
        "id": "RbRKDq24WiV9"
      },
      "source": [
        "sorting arrays"
      ]
    },
    {
      "cell_type": "code",
      "metadata": {
        "colab": {
          "base_uri": "https://localhost:8080/"
        },
        "id": "74AW9pPHWj7b",
        "outputId": "78e291c1-2c87-4ffb-9310-4fa543bdd346"
      },
      "source": [
        "random_array"
      ],
      "execution_count": 273,
      "outputs": [
        {
          "output_type": "execute_result",
          "data": {
            "text/plain": [
              "array([[15,  4,  2, 18],\n",
              "       [ 5,  7, 15, 15],\n",
              "       [ 8,  5,  7,  5]])"
            ]
          },
          "metadata": {},
          "execution_count": 273
        }
      ]
    },
    {
      "cell_type": "code",
      "metadata": {
        "colab": {
          "base_uri": "https://localhost:8080/"
        },
        "id": "VmOgVoA0WqeJ",
        "outputId": "083a82cc-12d8-4d41-d601-964ceccc0b32"
      },
      "source": [
        "np.argsort(random_array)\n",
        "# index sort"
      ],
      "execution_count": 274,
      "outputs": [
        {
          "output_type": "execute_result",
          "data": {
            "text/plain": [
              "array([[2, 1, 0, 3],\n",
              "       [0, 1, 2, 3],\n",
              "       [1, 3, 2, 0]])"
            ]
          },
          "metadata": {},
          "execution_count": 274
        }
      ]
    },
    {
      "cell_type": "code",
      "metadata": {
        "colab": {
          "base_uri": "https://localhost:8080/"
        },
        "id": "69KbWU4YW-Ci",
        "outputId": "271f40ea-8557-4bbb-ea75-fe1ba5436328"
      },
      "source": [
        "np.argmin(random_array)"
      ],
      "execution_count": 275,
      "outputs": [
        {
          "output_type": "execute_result",
          "data": {
            "text/plain": [
              "2"
            ]
          },
          "metadata": {},
          "execution_count": 275
        }
      ]
    },
    {
      "cell_type": "code",
      "metadata": {
        "colab": {
          "base_uri": "https://localhost:8080/"
        },
        "id": "IoilYC78XFBg",
        "outputId": "1c9da0ed-96e3-4724-a514-087782af91e4"
      },
      "source": [
        "np.argmax(random_array)"
      ],
      "execution_count": 276,
      "outputs": [
        {
          "output_type": "execute_result",
          "data": {
            "text/plain": [
              "3"
            ]
          },
          "metadata": {},
          "execution_count": 276
        }
      ]
    },
    {
      "cell_type": "markdown",
      "metadata": {
        "id": "2N76DGyAZZNg"
      },
      "source": [
        "Use case. \n",
        "Turn images into numbers\n",
        "\n",
        "> Bloc con sangría\n",
        "\n"
      ]
    },
    {
      "cell_type": "code",
      "metadata": {
        "id": "vRdaX--3ZiqM"
      },
      "source": [
        "from matplotlib.image import imread"
      ],
      "execution_count": 277,
      "outputs": []
    },
    {
      "cell_type": "code",
      "metadata": {
        "id": "qbII8ziUZ6fT"
      },
      "source": [
        "japan=imread(\"/content/Torii-Gate-sea-sunset-Japan_iphone_1080x1920.jpg\")"
      ],
      "execution_count": 279,
      "outputs": []
    },
    {
      "cell_type": "code",
      "metadata": {
        "colab": {
          "base_uri": "https://localhost:8080/"
        },
        "id": "kWaFvoY7aHGw",
        "outputId": "a6050bd5-7abb-4608-ab8f-0cf7933d9d94"
      },
      "source": [
        "japan"
      ],
      "execution_count": 280,
      "outputs": [
        {
          "output_type": "execute_result",
          "data": {
            "text/plain": [
              "array([[[  0, 155, 199],\n",
              "        [  0, 155, 199],\n",
              "        [  0, 154, 198],\n",
              "        ...,\n",
              "        [  1, 159, 206],\n",
              "        [  1, 159, 206],\n",
              "        [  1, 159, 206]],\n",
              "\n",
              "       [[  6, 161, 205],\n",
              "        [  6, 161, 205],\n",
              "        [  5, 160, 204],\n",
              "        ...,\n",
              "        [  9, 167, 214],\n",
              "        [  9, 167, 214],\n",
              "        [  9, 167, 214]],\n",
              "\n",
              "       [[  2, 157, 201],\n",
              "        [  2, 157, 201],\n",
              "        [  1, 156, 200],\n",
              "        ...,\n",
              "        [  3, 161, 208],\n",
              "        [  3, 161, 208],\n",
              "        [  3, 161, 208]],\n",
              "\n",
              "       ...,\n",
              "\n",
              "       [[101, 129, 153],\n",
              "        [107, 137, 161],\n",
              "        [100, 131, 152],\n",
              "        ...,\n",
              "        [ 57, 142, 171],\n",
              "        [ 61, 144, 174],\n",
              "        [ 58, 141, 171]],\n",
              "\n",
              "       [[104, 132, 154],\n",
              "        [112, 140, 162],\n",
              "        [107, 138, 159],\n",
              "        ...,\n",
              "        [ 80, 159, 190],\n",
              "        [ 81, 160, 191],\n",
              "        [ 78, 157, 188]],\n",
              "\n",
              "       [[ 78, 106, 128],\n",
              "        [ 85, 113, 135],\n",
              "        [ 91, 119, 141],\n",
              "        ...,\n",
              "        [100, 174, 209],\n",
              "        [ 98, 173, 205],\n",
              "        [ 97, 172, 204]]], dtype=uint8)"
            ]
          },
          "metadata": {},
          "execution_count": 280
        }
      ]
    },
    {
      "cell_type": "code",
      "metadata": {
        "colab": {
          "base_uri": "https://localhost:8080/"
        },
        "id": "n72fJ1ZIaJ9l",
        "outputId": "40b67c13-70dd-4a4a-e10c-87324b217166"
      },
      "source": [
        "len(japan)"
      ],
      "execution_count": 281,
      "outputs": [
        {
          "output_type": "execute_result",
          "data": {
            "text/plain": [
              "1920"
            ]
          },
          "metadata": {},
          "execution_count": 281
        }
      ]
    },
    {
      "cell_type": "code",
      "metadata": {
        "colab": {
          "base_uri": "https://localhost:8080/"
        },
        "id": "taTybv47aL-e",
        "outputId": "63c9bd63-e4d6-4dce-e935-b3763554024b"
      },
      "source": [
        "japan.ndim"
      ],
      "execution_count": 282,
      "outputs": [
        {
          "output_type": "execute_result",
          "data": {
            "text/plain": [
              "3"
            ]
          },
          "metadata": {},
          "execution_count": 282
        }
      ]
    },
    {
      "cell_type": "code",
      "metadata": {
        "colab": {
          "base_uri": "https://localhost:8080/"
        },
        "id": "lVaD0k3OaS_P",
        "outputId": "280e4f2d-1daf-441e-93c0-20a716b859b0"
      },
      "source": [
        "japan.shape"
      ],
      "execution_count": 283,
      "outputs": [
        {
          "output_type": "execute_result",
          "data": {
            "text/plain": [
              "(1920, 1080, 3)"
            ]
          },
          "metadata": {},
          "execution_count": 283
        }
      ]
    },
    {
      "cell_type": "code",
      "metadata": {
        "colab": {
          "base_uri": "https://localhost:8080/",
          "height": 269
        },
        "id": "-4Dh30tRaVFl",
        "outputId": "a681afff-a086-47b2-b6f9-55e493bcf9a6"
      },
      "source": [
        "from matplotlib import pyplot as plt\n",
        "plt.imshow(japan, interpolation=\"nearest\")\n",
        "plt.show()"
      ],
      "execution_count": 285,
      "outputs": [
        {
          "output_type": "display_data",
          "data": {
            "image/png": "[encoded data removed]",
            "text/plain": [
              "<Figure size 432x288 with 1 Axes>"
            ]
          },
          "metadata": {
            "needs_background": "light"
          }
        }
      ]
    }
  ]
}